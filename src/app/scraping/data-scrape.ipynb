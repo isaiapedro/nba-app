{
 "cells": [
  {
   "cell_type": "code",
   "execution_count": 2,
   "id": "a24fb6ef",
   "metadata": {},
   "outputs": [],
   "source": [
    "#conda create -n venv_name\n",
    "#conda activate venv_name\n",
    "#conda install pip\n",
    "#pip install pandas\n",
    "#pip install cloudscraper\n",
    "#pip install beautifulsoup4\n",
    "#pip install ipykernel\n",
    "#pip install lxml"
   ]
  },
  {
   "cell_type": "code",
   "execution_count": 3,
   "id": "c27fefcf",
   "metadata": {},
   "outputs": [],
   "source": [
    "#remove warnings\n",
    "import warnings\n",
    "warnings.filterwarnings('ignore')\n",
    "\n",
    "#matrix manipulation\n",
    "import pandas as pd\n",
    "\n",
    "#scrapping data\n",
    "import cloudscraper\n",
    "from bs4 import BeautifulSoup"
   ]
  },
  {
   "cell_type": "markdown",
   "id": "ddf56cf7",
   "metadata": {},
   "source": [
    "### MVP List"
   ]
  },
  {
   "cell_type": "code",
   "execution_count": 4,
   "id": "61364437",
   "metadata": {},
   "outputs": [],
   "source": [
    "years = list(range(2000, 2025))"
   ]
  },
  {
   "cell_type": "code",
   "execution_count": 5,
   "id": "784b97c7",
   "metadata": {},
   "outputs": [],
   "source": [
    "url_start = \"https://www.basketball-reference.com/awards/awards_{}.html\""
   ]
  },
  {
   "cell_type": "code",
   "execution_count": 6,
   "id": "850088a1",
   "metadata": {},
   "outputs": [],
   "source": [
    "scraper = cloudscraper.create_scraper() \n",
    "\n",
    "for year in years:\n",
    "    url = url_start.format(year)\n",
    "    data = scraper.get(url)\n",
    "\n",
    "    with open('mvp/{}.html'.format(year), 'w+', encoding=\"utf-8\") as f:\n",
    "        f.write(data.text)"
   ]
  },
  {
   "cell_type": "code",
   "execution_count": 7,
   "id": "93d245be",
   "metadata": {},
   "outputs": [],
   "source": [
    "dfs = []\n",
    "for year in years:\n",
    "    with open('mvp/{}.html'.format(year), encoding=\"utf-8\") as f:\n",
    "        page = f.read()\n",
    "\n",
    "    soup = BeautifulSoup(page, \"html.parser\")\n",
    "    soup.find('tr', class_='over_header').decompose()\n",
    "    mvp_table = soup.find(id=\"mvp\")\n",
    "    mvp = pd.read_html(str(mvp_table))[0]\n",
    "    mvp['Year'] = year\n",
    "\n",
    "    dfs.append(mvp)\n",
    "\n",
    "    mvps = pd.concat(dfs)\n",
    "    mvps.to_csv(\"mvsps.csv\")"
   ]
  },
  {
   "cell_type": "code",
   "execution_count": 8,
   "id": "6bfea3a7",
   "metadata": {},
   "outputs": [],
   "source": [
    "mvps.reset_index(inplace=True)"
   ]
  },
  {
   "cell_type": "code",
   "execution_count": 9,
   "id": "c324945d",
   "metadata": {},
   "outputs": [],
   "source": [
    "mvps.to_json(\"mvps.json\")"
   ]
  },
  {
   "cell_type": "markdown",
   "id": "f74c9a76",
   "metadata": {},
   "source": [
    "### Player Stats in the League"
   ]
  },
  {
   "cell_type": "code",
   "execution_count": 10,
   "id": "90a249a6",
   "metadata": {},
   "outputs": [],
   "source": [
    "player_stats_url = 'https://www.basketball-reference.com/leagues/NBA_{}_per_game.html'"
   ]
  },
  {
   "cell_type": "code",
   "execution_count": 11,
   "id": "49266cd4",
   "metadata": {},
   "outputs": [],
   "source": [
    "scraper = cloudscraper.create_scraper() \n",
    "\n",
    "for year in years:\n",
    "    url = player_stats_url.format(year)\n",
    "    data = scraper.get(url)\n",
    "    with open('player/{}.html'.format(year), 'w+',  encoding='utf-8') as f:\n",
    "        f.write(data.text)"
   ]
  },
  {
   "cell_type": "code",
   "execution_count": 12,
   "id": "25032885",
   "metadata": {},
   "outputs": [],
   "source": [
    "dfs = []\n",
    "for year in years:\n",
    "    with open('player/{}.html'.format(year), encoding=\"utf-8\") as f:\n",
    "        page = f.read()\n",
    "\n",
    "    soup = BeautifulSoup(page, \"html.parser\")\n",
    "    player_table = soup.find(id=\"switcher_per_game_stats\")\n",
    "    player = pd.read_html(str(player_table))[0]\n",
    "    player['Year'] = year\n",
    "\n",
    "    dfs.append(player)"
   ]
  },
  {
   "cell_type": "code",
   "execution_count": 13,
   "id": "93863c2d",
   "metadata": {},
   "outputs": [],
   "source": [
    "players = pd.concat(dfs)"
   ]
  },
  {
   "cell_type": "code",
   "execution_count": 14,
   "id": "071e29bd",
   "metadata": {},
   "outputs": [],
   "source": [
    "players = players.dropna(axis=0, subset=['Age'])"
   ]
  },
  {
   "cell_type": "code",
   "execution_count": 15,
   "id": "5e8bc599",
   "metadata": {},
   "outputs": [],
   "source": [
    "players.to_csv('players.csv')"
   ]
  },
  {
   "cell_type": "code",
   "execution_count": 16,
   "id": "dba8bfbd",
   "metadata": {},
   "outputs": [],
   "source": [
    "players.reset_index(inplace=True)"
   ]
  },
  {
   "cell_type": "code",
   "execution_count": 17,
   "id": "f1109a41",
   "metadata": {},
   "outputs": [],
   "source": [
    "players.to_json('players.json')"
   ]
  },
  {
   "cell_type": "markdown",
   "id": "b6def430",
   "metadata": {},
   "source": [
    "### Active"
   ]
  },
  {
   "cell_type": "code",
   "execution_count": 18,
   "id": "359e2ee5",
   "metadata": {},
   "outputs": [],
   "source": [
    "dfs = []\n",
    "with open('player/{}.html'.format(2024), encoding=\"utf-8\") as f:\n",
    "    page = f.read()\n",
    "\n",
    "soup = BeautifulSoup(page, \"html.parser\")\n",
    "active_player_table = soup.find(id=\"switcher_per_game_stats\")\n",
    "active_player = pd.read_html(str(active_player_table))[0]\n",
    "\n",
    "dfs.append(active_player)"
   ]
  },
  {
   "cell_type": "code",
   "execution_count": 19,
   "id": "1257049e",
   "metadata": {},
   "outputs": [],
   "source": [
    "active_players = pd.concat(dfs)"
   ]
  },
  {
   "cell_type": "code",
   "execution_count": 20,
   "id": "d2d2ba23",
   "metadata": {},
   "outputs": [],
   "source": [
    "active_players = active_players.dropna(axis=0, subset=['Age'])"
   ]
  },
  {
   "cell_type": "code",
   "execution_count": 21,
   "id": "96483af0",
   "metadata": {},
   "outputs": [],
   "source": [
    "active_players.reset_index(inplace=True)"
   ]
  },
  {
   "cell_type": "code",
   "execution_count": 23,
   "id": "031ed4a0",
   "metadata": {},
   "outputs": [],
   "source": [
    "active_players.to_json('active_players.json', orient='records', lines=True)"
   ]
  },
  {
   "cell_type": "markdown",
   "id": "aac877e3",
   "metadata": {},
   "source": [
    "### Teams"
   ]
  },
  {
   "cell_type": "code",
   "execution_count": null,
   "id": "bf592d2d",
   "metadata": {},
   "outputs": [],
   "source": [
    "team_stats_url = \"https://www.basketball-reference.com/leagues/NBA_{}_standings.html\""
   ]
  },
  {
   "cell_type": "code",
   "execution_count": null,
   "id": "71481fa9",
   "metadata": {},
   "outputs": [],
   "source": [
    "for year in years:\n",
    "    url = team_stats_url.format(year)\n",
    "\n",
    "    data = scraper.get(url)\n",
    "\n",
    "    with open(\"team/{}.html\".format(year), \"w+\", encoding=\"utf-8\") as f:\n",
    "        f.write(data.text)"
   ]
  },
  {
   "cell_type": "code",
   "execution_count": null,
   "id": "0cb9137e",
   "metadata": {},
   "outputs": [],
   "source": [
    "dfs = []\n",
    "for year in years:\n",
    "    with open(\"team/{}.html\".format(year), encoding=\"utf-8\") as f:\n",
    "        page = f.read()\n",
    "\n",
    "    soup = BeautifulSoup(page, \"html.parser\")\n",
    "    team_table = soup.find(id=\"divs_standings_E\")\n",
    "    team = pd.read_html(str(team_table))[0]\n",
    "    team['Year'] = year\n",
    "    team['Team'] = team[\"Eastern Conference\"]\n",
    "    del team['Eastern Conference']\n",
    "    dfs.append(team)\n",
    "\n",
    "    soup = BeautifulSoup(page, \"html.parser\")\n",
    "    team_table = soup.find(id=\"divs_standings_W\")\n",
    "    team = pd.read_html(str(team_table))[0]\n",
    "    team['Year'] = year\n",
    "    team['Team'] = team[\"Western Conference\"]\n",
    "    del team['Western Conference']\n",
    "    dfs.append(team)"
   ]
  },
  {
   "cell_type": "code",
   "execution_count": null,
   "id": "5700f25f",
   "metadata": {},
   "outputs": [],
   "source": [
    "teams = pd.concat(dfs)"
   ]
  },
  {
   "cell_type": "code",
   "execution_count": null,
   "id": "163f3364",
   "metadata": {},
   "outputs": [],
   "source": [
    "teams[\"W\"] = pd.to_numeric(teams[\"W\"], errors=\"coerce\")\n",
    "teams = teams.dropna(axis=0, subset=['W'])"
   ]
  },
  {
   "cell_type": "code",
   "execution_count": null,
   "id": "1e635abb",
   "metadata": {},
   "outputs": [],
   "source": [
    "teams.to_csv('teams.csv')"
   ]
  },
  {
   "cell_type": "code",
   "execution_count": null,
   "id": "22f24f5e",
   "metadata": {},
   "outputs": [],
   "source": [
    "teams.reset_index(inplace=True)"
   ]
  },
  {
   "cell_type": "code",
   "execution_count": null,
   "id": "5ce9a772",
   "metadata": {},
   "outputs": [],
   "source": [
    "teams.to_json('teams.json')"
   ]
  }
 ],
 "metadata": {
  "kernelspec": {
   "display_name": "venv_name",
   "language": "python",
   "name": "python3"
  },
  "language_info": {
   "codemirror_mode": {
    "name": "ipython",
    "version": 3
   },
   "file_extension": ".py",
   "mimetype": "text/x-python",
   "name": "python",
   "nbconvert_exporter": "python",
   "pygments_lexer": "ipython3",
   "version": "3.13.5"
  }
 },
 "nbformat": 4,
 "nbformat_minor": 5
}
